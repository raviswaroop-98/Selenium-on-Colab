{
  "nbformat": 4,
  "nbformat_minor": 0,
  "metadata": {
    "colab": {
      "provenance": [],
      "authorship_tag": "ABX9TyM6TtddPMoF6kI5YSm1AXPv",
      "include_colab_link": true
    },
    "kernelspec": {
      "name": "python3",
      "display_name": "Python 3"
    },
    "language_info": {
      "name": "python"
    }
  },
  "cells": [
    {
      "cell_type": "markdown",
      "metadata": {
        "id": "view-in-github",
        "colab_type": "text"
      },
      "source": [
        "<a href=\"https://colab.research.google.com/github/raviswaroop-98/Selenium-on-Colab/blob/main/Selenium_on_Colab_.ipynb\" target=\"_parent\"><img src=\"https://colab.research.google.com/assets/colab-badge.svg\" alt=\"Open In Colab\"/></a>"
      ]
    },
    {
      "cell_type": "markdown",
      "source": [
        "#Selenium on Google Colab\n",
        "This block of code is crucial for configuring the necessary environment to run web scraping or browser automation tasks using Selenium within your Google Colab notebook. Since Colab notebooks run on virtual machines in the cloud, they don't come pre-installed with a graphical web browser or the specific tools needed for Selenium to interact with one.\n"
      ],
      "metadata": {
        "id": "9w798LTnEyng"
      }
    },
    {
      "cell_type": "code",
      "execution_count": null,
      "metadata": {
        "collapsed": true,
        "id": "RptsreqhDu94"
      },
      "outputs": [],
      "source": [
        "RUN_SETUP_SHELL = True\n",
        "\n",
        "if RUN_SETUP_SHELL:\n",
        "\n",
        "  print(\"Running setup shell commands...\")\n",
        "\n",
        "  !sudo apt -y update\n",
        "  !wget https://dl.google.com/linux/direct/google-chrome-stable_current_amd64.deb\n",
        "  !sudo apt install ./google-chrome-stable_current_amd64.deb\n",
        "  !pip install selenium chromedriver_autoinstaller\n",
        "\n",
        "  print(\"Setup shell commands finished.\")\n",
        "  RUN_SETUP_SHELL = False\n",
        "\n",
        "else:\n",
        "  print(\"Skipping setup shell commands.\")\n",
        "  print(\"\\n--- Running main code/commands ---\")"
      ]
    },
    {
      "cell_type": "markdown",
      "source": [
        "## Selenium WebDriver Configuration\n",
        "\n",
        "This code block initializes a Selenium WebDriver instance for Google Chrome, specifically configured for use in a headless environment like Google Colab.\n"
      ],
      "metadata": {
        "id": "LcLORbsTGesv"
      }
    },
    {
      "cell_type": "code",
      "source": [
        "from selenium import webdriver\n",
        "import chromedriver_autoinstaller\n",
        "\n",
        "chromedriver_autoinstaller.install()\n",
        "\n",
        "chrome_options = webdriver.ChromeOptions()\n",
        "chrome_options.add_argument('--headless')             #  The options are a must,\n",
        "chrome_options.add_argument('--no-sandbox')           #  do not remove them\n",
        "chrome_options.add_argument('--disable-dev-shm-usage')\n",
        "\n",
        "driver = webdriver.Chrome(options=chrome_options)"
      ],
      "metadata": {
        "id": "VtyIZmNKD_vo"
      },
      "execution_count": null,
      "outputs": []
    },
    {
      "cell_type": "markdown",
      "source": [
        "Now test the driver by visting google"
      ],
      "metadata": {
        "id": "JcabO__ZGK6J"
      }
    },
    {
      "cell_type": "code",
      "source": [
        "driver.get(\"https://google.com\")\n",
        "driver.quit()"
      ],
      "metadata": {
        "id": "IqUdr3BxGTYm"
      },
      "execution_count": null,
      "outputs": []
    }
  ]
}